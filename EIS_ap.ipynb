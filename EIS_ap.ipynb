{
 "cells": [
  {
   "cell_type": "code",
   "execution_count": null,
   "metadata": {},
   "outputs": [],
   "source": [
    "import serial"
   ]
  },
  {
   "cell_type": "code",
   "execution_count": null,
   "metadata": {},
   "outputs": [],
   "source": [
    "class RP7972A():\n",
    "    \"\"\"Esta clase pide y mide los datos de la fuente, para luego ser procesados\"\"\"\n",
    "    def __init__(self, curr_initialFreq, curr_finalFreq, curr_amplitude, curr_sweepPoints):\n",
    "        \"\"\"Define variables de entrada como variables globales en la clase\"\"\"\n",
    "        self.curr_initialFreq = curr_initialFreq\n",
    "        self.curr_finalFreq = curr_finalFreq\n",
    "        self.curr_amplitude = curr_amplitude\n",
    "        self.curr_sweepPoints = curr_sweepPoints\n",
    "\n",
    "    def generate_arb(self, ):\n",
    "        \"\"\"Para generar las señales de corriente que se envian a la fuente\"\"\"\n",
    "        \"\"\"INFO: service manual, cap 4, Programming an Arbitrary Waveform\"\"\"\n",
    "\n",
    "    def measure_voltage():\n",
    "        \"\"\"Para configurar como tomar datos\"\"\"\n",
    "        \n",
    "    # TOOLBOX\n",
    "    def sweep_frequencies(self):\n",
    "        \"\"\"A partir de las frecuencias inicial y final y la cantidad de sweep points se definen las frecuencias sobre las que se hará el barrido\"\"\"\n",
    "        #TODO escribir funcion con curr_initialFreq, curr_finalFreq, curr_sweepPoints\n",
    "    def cycles_per_frequency(self, sweep_freqs):\n",
    "        \"\"\"Switch para definir ciclos por frecuencia, recibe un array de frequencias por las que se hará el sweep, saca un diccionario\"\"\"\n",
    "\n",
    "\n",
    "class HMI():\n",
    "    \"\"\"Esta clase es la interfaz entre el usuario y nuestro programa\"\"\"\n",
    "    def __init__():\n",
    "\n",
    "\n",
    "class EIS():\n",
    "    \"\"\"Una vez tengamos los datos, se procesaran con esta clase\"\"\"\n",
    "    "
   ]
  },
  {
   "cell_type": "code",
   "execution_count": null,
   "metadata": {},
   "outputs": [],
   "source": [
    "\"\"\"snippet for serial communication with the instrument\"\"\"\n",
    "# validate_serial.py\n",
    "import serial\n",
    "\n",
    "COM_PORT = \"COM5\"  # Instrument port location\n",
    "TIMEOUT = 1\n",
    "CHECK_COMMAND = \"*IDN?\\n\"  # Terminate with newline\n",
    "\n",
    "with serial.Serial(\n",
    "  COM_PORT,\n",
    "  write_timeout=TIMEOUT,\n",
    "  timeout=TIMEOUT) as serial_connection:\n",
    "    serial_connection.write(CHECK_COMMAND.encode())  # Send command\n",
    "    response = serial_connection.readline().decode()  # read response\n",
    "print(response)"
   ]
  }
 ],
 "metadata": {
  "language_info": {
   "name": "python"
  }
 },
 "nbformat": 4,
 "nbformat_minor": 2
}
